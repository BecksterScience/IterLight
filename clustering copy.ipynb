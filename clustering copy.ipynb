{
 "cells": [
  {
   "cell_type": "code",
   "execution_count": 6,
   "metadata": {},
   "outputs": [
    {
     "name": "stdout",
     "output_type": "stream",
     "text": [
      "<class 'pandas.core.frame.DataFrame'>\n",
      "RangeIndex: 200 entries, 0 to 199\n",
      "Data columns (total 15 columns):\n",
      " #   Column                           Non-Null Count  Dtype \n",
      "---  ------                           --------------  ----- \n",
      " 0   Organization                     200 non-null    object\n",
      " 1   Category                         200 non-null    object\n",
      " 2   Tier                             200 non-null    int64 \n",
      " 3   Geographic Scope                 200 non-null    object\n",
      " 4   Mission / Stated Pillars         200 non-null    object\n",
      " 5   Verified Grant URL / Contact     200 non-null    object\n",
      " 6   Confirmed Application Deadlines  197 non-null    object\n",
      " 7   Typical Grant Size               189 non-null    object\n",
      " 8   Strategic Note / Pitch Angle     147 non-null    object\n",
      " 9   DEI Priorities                   200 non-null    object\n",
      " 10  Partnership Potential            200 non-null    object\n",
      " 11  Best Pitch Angle                 200 non-null    object\n",
      " 12  Enhanced Notes                   147 non-null    object\n",
      " 13  Contact Person                   200 non-null    object\n",
      " 14  Application Process              197 non-null    object\n",
      "dtypes: int64(1), object(14)\n",
      "memory usage: 23.6+ KB\n"
     ]
    },
    {
     "data": {
      "text/html": [
       "<div>\n",
       "<style scoped>\n",
       "    .dataframe tbody tr th:only-of-type {\n",
       "        vertical-align: middle;\n",
       "    }\n",
       "\n",
       "    .dataframe tbody tr th {\n",
       "        vertical-align: top;\n",
       "    }\n",
       "\n",
       "    .dataframe thead th {\n",
       "        text-align: right;\n",
       "    }\n",
       "</style>\n",
       "<table border=\"1\" class=\"dataframe\">\n",
       "  <thead>\n",
       "    <tr style=\"text-align: right;\">\n",
       "      <th></th>\n",
       "      <th>Organization</th>\n",
       "      <th>Category</th>\n",
       "      <th>Tier</th>\n",
       "      <th>Geographic Scope</th>\n",
       "      <th>Mission / Stated Pillars</th>\n",
       "      <th>Verified Grant URL / Contact</th>\n",
       "      <th>Confirmed Application Deadlines</th>\n",
       "      <th>Typical Grant Size</th>\n",
       "      <th>Strategic Note / Pitch Angle</th>\n",
       "      <th>DEI Priorities</th>\n",
       "      <th>Partnership Potential</th>\n",
       "      <th>Best Pitch Angle</th>\n",
       "      <th>Enhanced Notes</th>\n",
       "      <th>Contact Person</th>\n",
       "      <th>Application Process</th>\n",
       "    </tr>\n",
       "  </thead>\n",
       "  <tbody>\n",
       "    <tr>\n",
       "      <th>0</th>\n",
       "      <td>Kickstarter</td>\n",
       "      <td>Crowdfunding</td>\n",
       "      <td>3</td>\n",
       "      <td>National</td>\n",
       "      <td>Platform for creative, project-based funding w...</td>\n",
       "      <td>https://www.kickstarter.com/</td>\n",
       "      <td>Rolling</td>\n",
       "      <td>$1K - $10K+</td>\n",
       "      <td>Best for a specific, tangible project (e.g., '...</td>\n",
       "      <td>Likely - Verify</td>\n",
       "      <td>Community integration</td>\n",
       "      <td>Sports-math curriculum</td>\n",
       "      <td>Best for project-based funding with tangible r...</td>\n",
       "      <td>https://www.kickstarter.com/</td>\n",
       "      <td>Rolling</td>\n",
       "    </tr>\n",
       "    <tr>\n",
       "      <th>1</th>\n",
       "      <td>Indiegogo</td>\n",
       "      <td>Crowdfunding</td>\n",
       "      <td>3</td>\n",
       "      <td>National</td>\n",
       "      <td>Similar to Kickstarter but offers more flexibl...</td>\n",
       "      <td>https://www.indiegogo.com/</td>\n",
       "      <td>Rolling</td>\n",
       "      <td>$1K - $10K+</td>\n",
       "      <td>A strong alternative to Kickstarter, especiall...</td>\n",
       "      <td>Likely - Verify</td>\n",
       "      <td>Community integration</td>\n",
       "      <td>Sports-math curriculum</td>\n",
       "      <td>Similar to Kickstarter but offers more flexibl...</td>\n",
       "      <td>https://www.indiegogo.com/</td>\n",
       "      <td>Rolling</td>\n",
       "    </tr>\n",
       "    <tr>\n",
       "      <th>2</th>\n",
       "      <td>University of Florida Foundation</td>\n",
       "      <td>Collegiate</td>\n",
       "      <td>1</td>\n",
       "      <td>Florida</td>\n",
       "      <td>Supports UF's mission of research, education, ...</td>\n",
       "      <td>Kim Kruse, Corporate &amp; Foundation Giving: ktk@...</td>\n",
       "      <td>Varies; partnership-based</td>\n",
       "      <td>Varies ($5K - $50K+)</td>\n",
       "      <td>LOCAL ADVANTAGE. Propose a research partnershi...</td>\n",
       "      <td>Likely - Verify</td>\n",
       "      <td>Pilot programs</td>\n",
       "      <td>College prep through sports learning</td>\n",
       "      <td>Directly approaching the Corporate &amp; Foundatio...</td>\n",
       "      <td>Kim Kruse, Corporate &amp; Foundation Giving: ktk@...</td>\n",
       "      <td>Research needed</td>\n",
       "    </tr>\n",
       "  </tbody>\n",
       "</table>\n",
       "</div>"
      ],
      "text/plain": [
       "                       Organization      Category  Tier Geographic Scope  \\\n",
       "0                       Kickstarter  Crowdfunding     3         National   \n",
       "1                         Indiegogo  Crowdfunding     3         National   \n",
       "2  University of Florida Foundation    Collegiate     1          Florida   \n",
       "\n",
       "                            Mission / Stated Pillars  \\\n",
       "0  Platform for creative, project-based funding w...   \n",
       "1  Similar to Kickstarter but offers more flexibl...   \n",
       "2  Supports UF's mission of research, education, ...   \n",
       "\n",
       "                        Verified Grant URL / Contact  \\\n",
       "0                       https://www.kickstarter.com/   \n",
       "1                         https://www.indiegogo.com/   \n",
       "2  Kim Kruse, Corporate & Foundation Giving: ktk@...   \n",
       "\n",
       "  Confirmed Application Deadlines    Typical Grant Size  \\\n",
       "0                         Rolling           $1K - $10K+   \n",
       "1                         Rolling           $1K - $10K+   \n",
       "2       Varies; partnership-based  Varies ($5K - $50K+)   \n",
       "\n",
       "                        Strategic Note / Pitch Angle   DEI Priorities  \\\n",
       "0  Best for a specific, tangible project (e.g., '...  Likely - Verify   \n",
       "1  A strong alternative to Kickstarter, especiall...  Likely - Verify   \n",
       "2  LOCAL ADVANTAGE. Propose a research partnershi...  Likely - Verify   \n",
       "\n",
       "   Partnership Potential                      Best Pitch Angle  \\\n",
       "0  Community integration                Sports-math curriculum   \n",
       "1  Community integration                Sports-math curriculum   \n",
       "2         Pilot programs  College prep through sports learning   \n",
       "\n",
       "                                      Enhanced Notes  \\\n",
       "0  Best for project-based funding with tangible r...   \n",
       "1  Similar to Kickstarter but offers more flexibl...   \n",
       "2  Directly approaching the Corporate & Foundatio...   \n",
       "\n",
       "                                      Contact Person Application Process  \n",
       "0                       https://www.kickstarter.com/             Rolling  \n",
       "1                         https://www.indiegogo.com/             Rolling  \n",
       "2  Kim Kruse, Corporate & Foundation Giving: ktk@...     Research needed  "
      ]
     },
     "execution_count": 6,
     "metadata": {},
     "output_type": "execute_result"
    }
   ],
   "source": [
    "# Step 1: Import basic libraries\n",
    "import pandas as pd\n",
    "import numpy as np\n",
    "\n",
    "# For visual inspection\n",
    "pd.set_option('display.max_columns', None)\n",
    "\n",
    "# Read the Excel file\n",
    "df = pd.read_excel(\"IterLight_Aspen_Enhanced_Dataset.xlsx\")\n",
    "\n",
    "# Quick look at the data\n",
    "df.info()\n",
    "df.head(3)\n"
   ]
  },
  {
   "cell_type": "code",
   "execution_count": 7,
   "metadata": {},
   "outputs": [
    {
     "data": {
      "text/plain": [
       "95                    Varies ($5K-25K)\n",
       "15     $5k, $10k, $15k, or $20k levels\n",
       "30                              Varies\n",
       "158                             Varies\n",
       "128                             Varies\n",
       "115                             Varies\n",
       "69       Varies ($20k - $60k examples)\n",
       "170                             Varies\n",
       "174                             Varies\n",
       "45                      Transformative\n",
       "Name: Typical Grant Size, dtype: object"
      ]
     },
     "execution_count": 7,
     "metadata": {},
     "output_type": "execute_result"
    }
   ],
   "source": [
    "# View a few random examples\n",
    "df['Typical Grant Size'].sample(10, random_state=42)\n"
   ]
  },
  {
   "cell_type": "code",
   "execution_count": 8,
   "metadata": {},
   "outputs": [
    {
     "data": {
      "text/plain": [
       "Typical Grant Size\n",
       "Varies                                                   115\n",
       "Varies ($5K-25K)                                          14\n",
       "NaN                                                       11\n",
       "Varies (e.g                                                7\n",
       "Varies ($5K - $25K+)                                       3\n",
       "Varies ($5K - $50K+)                                       2\n",
       "$1K - $10K+                                                2\n",
       "To be determined                                           2\n",
       "Varies (Large)                                             2\n",
       "50                                                         1\n",
       "Pistons Neighbors Program application due Mar 24)          1\n",
       "Partnership-based                                          1\n",
       "Varies ($5k rapid-response grants via Fastball Fund)       1\n",
       "Significant ($4B+ committed over 5 years for Elevate)      1\n",
       "Varies by program (e.g                                     1\n",
       "Grant applications are typically by invitation             1\n",
       "Varies ($25k - $50k examples)                              1\n",
       "Varies (up to $20k)                                        1\n",
       "2025-03-17 00:00:00                                        1\n",
       "Does not accept unsolicited proposals (Ballmer Group)      1\n",
       "Name: count, dtype: int64"
      ]
     },
     "execution_count": 8,
     "metadata": {},
     "output_type": "execute_result"
    }
   ],
   "source": [
    "# See how many distinct values and their counts\n",
    "df['Typical Grant Size'].value_counts(dropna=False).head(20)\n"
   ]
  },
  {
   "cell_type": "code",
   "execution_count": 9,
   "metadata": {},
   "outputs": [
    {
     "data": {
      "text/plain": [
       "GrantSize_Class\n",
       "1     22\n",
       "2     30\n",
       "3    126\n",
       "4     22\n",
       "Name: count, dtype: int64"
      ]
     },
     "execution_count": 9,
     "metadata": {},
     "output_type": "execute_result"
    }
   ],
   "source": [
    "import re\n",
    "import numpy as np\n",
    "\n",
    "def classify_grant_size(x):\n",
    "    \"\"\"\n",
    "    Classify grant size text into 4 categories:\n",
    "    1 = Explicit numeric range or single amount (e.g. '$5K-$25K')\n",
    "    2 = 'Varies' but contains numeric info (e.g. 'Varies ($5K-$25K+)')\n",
    "    3 = 'Varies' or descriptive text without numbers\n",
    "    4 = Missing, irrelevant, or invalid (dates, non-grant text)\n",
    "    \"\"\"\n",
    "    if pd.isna(x) or str(x).strip() == \"\":\n",
    "        return 4\n",
    "\n",
    "    text = str(x).lower()\n",
    "    has_number = bool(re.search(r'\\d+', text))\n",
    "\n",
    "    if has_number and 'varies' not in text:\n",
    "        return 1\n",
    "    elif has_number and 'varies' in text:\n",
    "        return 2\n",
    "    elif not has_number and 'varies' in text:\n",
    "        return 3\n",
    "    else:\n",
    "        return 4\n",
    "\n",
    "df['GrantSize_Class'] = df['Typical Grant Size'].apply(classify_grant_size)\n",
    "\n",
    "# Check results\n",
    "df[['Typical Grant Size', 'GrantSize_Class']].sample(10, random_state=42)\n",
    "df['GrantSize_Class'].value_counts().sort_index()\n"
   ]
  },
  {
   "cell_type": "code",
   "execution_count": 10,
   "metadata": {},
   "outputs": [
    {
     "data": {
      "text/plain": [
       "['Organization',\n",
       " 'Category',\n",
       " 'Tier',\n",
       " 'Geographic Scope',\n",
       " 'Mission / Stated Pillars',\n",
       " 'Verified Grant URL / Contact',\n",
       " 'Confirmed Application Deadlines',\n",
       " 'Typical Grant Size',\n",
       " 'Strategic Note / Pitch Angle',\n",
       " 'DEI Priorities',\n",
       " 'Partnership Potential',\n",
       " 'Best Pitch Angle',\n",
       " 'Enhanced Notes',\n",
       " 'Contact Person',\n",
       " 'Application Process',\n",
       " 'GrantSize_Class']"
      ]
     },
     "execution_count": 10,
     "metadata": {},
     "output_type": "execute_result"
    }
   ],
   "source": [
    "df.columns.tolist()\n"
   ]
  },
  {
   "cell_type": "code",
   "execution_count": 11,
   "metadata": {},
   "outputs": [
    {
     "data": {
      "text/html": [
       "<div>\n",
       "<style scoped>\n",
       "    .dataframe tbody tr th:only-of-type {\n",
       "        vertical-align: middle;\n",
       "    }\n",
       "\n",
       "    .dataframe tbody tr th {\n",
       "        vertical-align: top;\n",
       "    }\n",
       "\n",
       "    .dataframe thead th {\n",
       "        text-align: right;\n",
       "    }\n",
       "</style>\n",
       "<table border=\"1\" class=\"dataframe\">\n",
       "  <thead>\n",
       "    <tr style=\"text-align: right;\">\n",
       "      <th></th>\n",
       "      <th>Org_ID</th>\n",
       "      <th>Organization</th>\n",
       "      <th>Category</th>\n",
       "      <th>Geographic Scope</th>\n",
       "      <th>Mission / Stated Pillars</th>\n",
       "      <th>GrantSize_Class</th>\n",
       "    </tr>\n",
       "  </thead>\n",
       "  <tbody>\n",
       "    <tr>\n",
       "      <th>0</th>\n",
       "      <td>1</td>\n",
       "      <td>Kickstarter</td>\n",
       "      <td>Crowdfunding</td>\n",
       "      <td>National</td>\n",
       "      <td>Platform for creative, project-based funding w...</td>\n",
       "      <td>1</td>\n",
       "    </tr>\n",
       "    <tr>\n",
       "      <th>1</th>\n",
       "      <td>2</td>\n",
       "      <td>Indiegogo</td>\n",
       "      <td>Crowdfunding</td>\n",
       "      <td>National</td>\n",
       "      <td>Similar to Kickstarter but offers more flexibl...</td>\n",
       "      <td>1</td>\n",
       "    </tr>\n",
       "    <tr>\n",
       "      <th>2</th>\n",
       "      <td>3</td>\n",
       "      <td>University of Florida Foundation</td>\n",
       "      <td>Collegiate</td>\n",
       "      <td>Florida</td>\n",
       "      <td>Supports UF's mission of research, education, ...</td>\n",
       "      <td>2</td>\n",
       "    </tr>\n",
       "    <tr>\n",
       "      <th>3</th>\n",
       "      <td>4</td>\n",
       "      <td>Florida State University Research Foundation</td>\n",
       "      <td>Collegiate</td>\n",
       "      <td>Florida</td>\n",
       "      <td>The 'Grants for Application Proof of Concept (...</td>\n",
       "      <td>2</td>\n",
       "    </tr>\n",
       "    <tr>\n",
       "      <th>4</th>\n",
       "      <td>5</td>\n",
       "      <td>NFL Foundation</td>\n",
       "      <td>Pro Sports League</td>\n",
       "      <td>National</td>\n",
       "      <td>Supports health, safety, and wellness of athle...</td>\n",
       "      <td>3</td>\n",
       "    </tr>\n",
       "  </tbody>\n",
       "</table>\n",
       "</div>"
      ],
      "text/plain": [
       "   Org_ID                                  Organization           Category  \\\n",
       "0       1                                   Kickstarter       Crowdfunding   \n",
       "1       2                                     Indiegogo       Crowdfunding   \n",
       "2       3              University of Florida Foundation         Collegiate   \n",
       "3       4  Florida State University Research Foundation         Collegiate   \n",
       "4       5                                NFL Foundation  Pro Sports League   \n",
       "\n",
       "  Geographic Scope                           Mission / Stated Pillars  \\\n",
       "0         National  Platform for creative, project-based funding w...   \n",
       "1         National  Similar to Kickstarter but offers more flexibl...   \n",
       "2          Florida  Supports UF's mission of research, education, ...   \n",
       "3          Florida  The 'Grants for Application Proof of Concept (...   \n",
       "4         National  Supports health, safety, and wellness of athle...   \n",
       "\n",
       "   GrantSize_Class  \n",
       "0                1  \n",
       "1                1  \n",
       "2                2  \n",
       "3                2  \n",
       "4                3  "
      ]
     },
     "execution_count": 11,
     "metadata": {},
     "output_type": "execute_result"
    }
   ],
   "source": [
    "# Step 4: Select relevant columns for clustering\n",
    "cols_to_use = [\n",
    "    'Organization',\n",
    "    'Category',\n",
    "    'Geographic Scope',\n",
    "    'Mission / Stated Pillars',\n",
    "    'GrantSize_Class'\n",
    "]\n",
    "\n",
    "df_clust = df[cols_to_use].copy()\n",
    "\n",
    "# Add a unique numeric index for each organization\n",
    "df_clust.reset_index(drop=True, inplace=True)\n",
    "df_clust['Org_ID'] = df_clust.index + 1  # start from 1 for readability\n",
    "\n",
    "# Reorder columns so ID is first\n",
    "df_clust = df_clust[['Org_ID'] + cols_to_use]\n",
    "\n",
    "# Inspect\n",
    "df_clust.head(5)\n"
   ]
  },
  {
   "cell_type": "code",
   "execution_count": null,
   "metadata": {},
   "outputs": [],
   "source": [
    "#!pip install sentence-transformers\n"
   ]
  },
  {
   "cell_type": "code",
   "execution_count": 13,
   "metadata": {},
   "outputs": [
    {
     "data": {
      "application/vnd.jupyter.widget-view+json": {
       "model_id": "75103967ca7f4b5f89e94ce90470a58f",
       "version_major": 2,
       "version_minor": 0
      },
      "text/plain": [
       "Batches:   0%|          | 0/7 [00:00<?, ?it/s]"
      ]
     },
     "metadata": {},
     "output_type": "display_data"
    },
    {
     "name": "stdout",
     "output_type": "stream",
     "text": [
      "Embeddings shape: (200, 384)\n"
     ]
    }
   ],
   "source": [
    "from sentence_transformers import SentenceTransformer\n",
    "import numpy as np\n",
    "\n",
    "# Load a lightweight general-purpose embedding model\n",
    "model = SentenceTransformer('all-MiniLM-L6-v2')\n",
    "\n",
    "# Generate 384-dimensional embeddings for each mission statement\n",
    "text_embeddings = model.encode(df_clust['Mission / Stated Pillars'].fillna(''), show_progress_bar=True)\n",
    "\n",
    "# Confirm the shape\n",
    "print(\"Embeddings shape:\", text_embeddings.shape)\n"
   ]
  },
  {
   "cell_type": "code",
   "execution_count": 14,
   "metadata": {},
   "outputs": [
    {
     "name": "stdout",
     "output_type": "stream",
     "text": [
      "Categorical feature names: ['Geographic Scope_2' 'Geographic Scope_Akron, OH'\n",
      " 'Geographic Scope_Alabama'\n",
      " 'Geographic Scope_Alameda & San Francisco Counties, CA'\n",
      " 'Geographic Scope_Alberta' 'Geographic Scope_Arizona'\n",
      " 'Geographic Scope_Atlanta' 'Geographic Scope_Austin'\n",
      " 'Geographic Scope_Baltimore' 'Geographic Scope_Bay Area'\n",
      " 'Geographic Scope_Bay Area, CA' 'Geographic Scope_Birmingham'\n",
      " 'Geographic Scope_British Columbia' 'Geographic Scope_Brooklyn'\n",
      " 'Geographic Scope_Central Florida' 'Geographic Scope_Central Texas'\n",
      " 'Geographic Scope_Charleston' 'Geographic Scope_Charlotte'\n",
      " 'Geographic Scope_Chicago' 'Geographic Scope_Chicago, IL & Northwest IN'\n",
      " 'Geographic Scope_Chicagoland Area' 'Geographic Scope_Colorado'\n",
      " 'Geographic Scope_Colorado Springs' 'Geographic Scope_Columbus'\n",
      " 'Geographic Scope_D.C. Area' 'Geographic Scope_D.C. Metro Area'\n",
      " 'Geographic Scope_DMV Area' 'Geographic Scope_Dallas-Fort Worth Area'\n",
      " 'Geographic Scope_Delaware Valley' 'Geographic Scope_Detroit'\n",
      " 'Geographic Scope_Durham'\n",
      " 'Geographic Scope_Eastern Ontario & Western Quebec'\n",
      " 'Geographic Scope_Florida' 'Geographic Scope_Fort Worth'\n",
      " 'Geographic Scope_Georgia' 'Geographic Scope_Global'\n",
      " 'Geographic Scope_Greater Cincinnati'\n",
      " 'Geographic Scope_Greater Los Angeles'\n",
      " 'Geographic Scope_Greater Philadelphia'\n",
      " 'Geographic Scope_Gulf Coast Region' 'Geographic Scope_Gulf South Region'\n",
      " 'Geographic Scope_Houston Area' 'Geographic Scope_Houston, TX'\n",
      " 'Geographic Scope_Illinois / Chicago Area' 'Geographic Scope_Indiana'\n",
      " 'Geographic Scope_Kansas' 'Geographic Scope_Kansas City'\n",
      " 'Geographic Scope_Kansas City region' 'Geographic Scope_Las Vegas'\n",
      " 'Geographic Scope_Long Island' 'Geographic Scope_Los Angeles'\n",
      " 'Geographic Scope_Los Angeles Area' 'Geographic Scope_Los Angeles, CA'\n",
      " 'Geographic Scope_Louisiana' 'Geographic Scope_Louisville'\n",
      " 'Geographic Scope_Manitoba' 'Geographic Scope_Memphis, TN'\n",
      " 'Geographic Scope_Metro Detroit' 'Geographic Scope_Michigan'\n",
      " 'Geographic Scope_Middle Tennessee' 'Geographic Scope_Minnesota'\n",
      " 'Geographic Scope_Minnesota, IA, ND, SD, WI' 'Geographic Scope_Montreal'\n",
      " 'Geographic Scope_NY/NJ Area' 'Geographic Scope_NYC Metro / Tampa, FL'\n",
      " 'Geographic Scope_Nashville Area' 'Geographic Scope_National'\n",
      " 'Geographic Scope_National (NBA Markets)'\n",
      " 'Geographic Scope_National (specific cities)'\n",
      " 'Geographic Scope_National / Baltimore, MD'\n",
      " 'Geographic Scope_National / Global' 'Geographic Scope_National / Local'\n",
      " 'Geographic Scope_Nebraska' 'Geographic Scope_New England'\n",
      " 'Geographic Scope_New England & Lee County, FL'\n",
      " 'Geographic Scope_New Jersey' 'Geographic Scope_New York City'\n",
      " 'Geographic Scope_North & South Carolina'\n",
      " 'Geographic Scope_North Carolina' 'Geographic Scope_North Texas'\n",
      " 'Geographic Scope_Northeast Florida' 'Geographic Scope_Northeast Ohio'\n",
      " 'Geographic Scope_Northern Alberta' 'Geographic Scope_Oakland'\n",
      " 'Geographic Scope_Oakland, CA' 'Geographic Scope_Ohio'\n",
      " 'Geographic Scope_Oklahoma' 'Geographic Scope_Ontario'\n",
      " 'Geographic Scope_Oregon' 'Geographic Scope_Oregon & SW Washington'\n",
      " 'Geographic Scope_Pacific Northwest' 'Geographic Scope_Pennsylvania'\n",
      " 'Geographic Scope_Philadelphia Area' 'Geographic Scope_Philadelphia, PA'\n",
      " 'Geographic Scope_Pittsburgh' 'Geographic Scope_Pittsburgh Area'\n",
      " 'Geographic Scope_Portland Metro Area' 'Geographic Scope_Quebec'\n",
      " 'Geographic Scope_Sacramento' 'Geographic Scope_Sacramento region'\n",
      " 'Geographic Scope_Salt Lake City' 'Geographic Scope_San Antonio'\n",
      " 'Geographic Scope_San Diego' 'Geographic Scope_Seattle'\n",
      " 'Geographic Scope_Seattle Area' 'Geographic Scope_South & Central Texas'\n",
      " 'Geographic Scope_South Carolina' 'Geographic Scope_South Florida'\n",
      " 'Geographic Scope_Southern California'\n",
      " 'Geographic Scope_Specific Cities (US & Intl)'\n",
      " 'Geographic Scope_St. Louis' 'Geographic Scope_St. Louis Area'\n",
      " 'Geographic Scope_Tampa Bay' 'Geographic Scope_Tampa Bay, FL'\n",
      " 'Geographic Scope_Tennessee' 'Geographic Scope_Texas'\n",
      " 'Geographic Scope_Tri-State Area' 'Geographic Scope_Tri-state Area'\n",
      " 'Geographic Scope_Twin Cities Area'\n",
      " 'Geographic Scope_USC-adjacent neighborhoods, Los Angeles, CA'\n",
      " 'Geographic Scope_Upper Midwest' 'Geographic Scope_Utah'\n",
      " 'Geographic Scope_Virginia' 'Geographic Scope_Waco'\n",
      " 'Geographic Scope_Washington State'\n",
      " 'Geographic Scope_West MI, NYC, Tampa, FL'\n",
      " 'Geographic Scope_Western New York'\n",
      " 'Geographic Scope_Western Pennsylvania' 'Geographic Scope_Wisconsin'\n",
      " 'GrantSize_Class_1' 'GrantSize_Class_2' 'GrantSize_Class_3'\n",
      " 'GrantSize_Class_4']\n",
      "Categorical shape: (200, 133)\n"
     ]
    }
   ],
   "source": [
    "from sklearn.preprocessing import OneHotEncoder\n",
    "import numpy as np\n",
    "\n",
    "# Convert all categorical columns to string to avoid mixed-type errors\n",
    "cat_features = df_clust[['Geographic Scope', 'GrantSize_Class']].astype(str)\n",
    "\n",
    "encoder = OneHotEncoder(sparse_output=False, handle_unknown='ignore')\n",
    "cat_encoded = encoder.fit_transform(cat_features)\n",
    "\n",
    "print(\"Categorical feature names:\", encoder.get_feature_names_out())\n",
    "print(\"Categorical shape:\", cat_encoded.shape)\n"
   ]
  },
  {
   "cell_type": "code",
   "execution_count": 15,
   "metadata": {},
   "outputs": [
    {
     "name": "stdout",
     "output_type": "stream",
     "text": [
      "Final feature matrix shape: (200, 517)\n"
     ]
    },
    {
     "name": "stderr",
     "output_type": "stream",
     "text": [
      "huggingface/tokenizers: The current process just got forked, after parallelism has already been used. Disabling parallelism to avoid deadlocks...\n",
      "To disable this warning, you can either:\n",
      "\t- Avoid using `tokenizers` before the fork if possible\n",
      "\t- Explicitly set the environment variable TOKENIZERS_PARALLELISM=(true | false)\n",
      "/Users/jovitagandhi/opt/anaconda3/envs/video/lib/python3.10/site-packages/threadpoolctl.py:1226: RuntimeWarning: \n",
      "Found Intel OpenMP ('libiomp') and LLVM OpenMP ('libomp') loaded at\n",
      "the same time. Both libraries are known to be incompatible and this\n",
      "can cause random crashes or deadlocks on Linux when loaded in the\n",
      "same Python program.\n",
      "Using threadpoolctl may cause crashes or deadlocks. For more\n",
      "information and possible workarounds, please see\n",
      "    https://github.com/joblib/threadpoolctl/blob/master/multiple_openmp.md\n",
      "\n",
      "  warnings.warn(msg, RuntimeWarning)\n"
     ]
    },
    {
     "name": "stdout",
     "output_type": "stream",
     "text": [
      "k=2, silhouette score=0.159\n",
      "k=3, silhouette score=0.179\n",
      "k=4, silhouette score=0.204\n",
      "k=5, silhouette score=0.138\n",
      "k=6, silhouette score=0.114\n",
      "k=7, silhouette score=0.111\n",
      "k=8, silhouette score=0.102\n",
      "\n",
      "Best number of clusters: 4\n"
     ]
    }
   ],
   "source": [
    "from numpy import hstack\n",
    "from sklearn.cluster import KMeans\n",
    "from sklearn.metrics import silhouette_score\n",
    "\n",
    "# Step 7a: Combine text embeddings + categorical encodings\n",
    "X = hstack([text_embeddings, cat_encoded])\n",
    "print(\"Final feature matrix shape:\", X.shape)\n",
    "\n",
    "# Step 7b: Try KMeans for a few cluster counts\n",
    "sil_scores = {}\n",
    "for k in range(2, 9):  # test k = 2 to 8\n",
    "    kmeans = KMeans(n_clusters=k, random_state=42, n_init=10)\n",
    "    labels = kmeans.fit_predict(X)\n",
    "    score = silhouette_score(X, labels)\n",
    "    sil_scores[k] = score\n",
    "    print(f\"k={k}, silhouette score={score:.3f}\")\n",
    "\n",
    "# Step 7c: Pick the best k (highest silhouette score)\n",
    "best_k = max(sil_scores, key=sil_scores.get)\n",
    "print(f\"\\nBest number of clusters: {best_k}\")\n"
   ]
  },
  {
   "cell_type": "code",
   "execution_count": 16,
   "metadata": {},
   "outputs": [
    {
     "data": {
      "text/plain": [
       "Cluster\n",
       "0    84\n",
       "1    42\n",
       "2    30\n",
       "3    22\n",
       "4    22\n",
       "Name: count, dtype: int64"
      ]
     },
     "execution_count": 16,
     "metadata": {},
     "output_type": "execute_result"
    }
   ],
   "source": [
    "# Step 8a: Run KMeans again with the optimal number of clusters\n",
    "best_k = 5\n",
    "kmeans = KMeans(n_clusters=best_k, random_state=42, n_init=10)\n",
    "df_clust['Cluster'] = kmeans.fit_predict(X)\n",
    "\n",
    "# Step 8b: See how many orgs in each cluster\n",
    "df_clust['Cluster'].value_counts().sort_index()\n"
   ]
  },
  {
   "cell_type": "code",
   "execution_count": 17,
   "metadata": {},
   "outputs": [
    {
     "name": "stdout",
     "output_type": "stream",
     "text": [
      "\n",
      "=== Cluster 0 ===\n",
      "Organizations: 84\n",
      "Most common Grant Size Classes:\n",
      "GrantSize_Class\n",
      "3    84\n",
      "Name: count, dtype: int64\n",
      "\n",
      "Sample Missions:\n",
      "['Supports health, safety, and wellness of athletes; youth football development; social justice', \"Educate and empower Bay Area youth'; Social Justice grant focuses on racial equity in the Black community via education, economic advancement, and criminal justice reform\", \"Pillars: Wellness, Education, Youth Hockey. Specific programs include 'Technology in Education' and 'PensFIT'\"]\n",
      "\n",
      "=== Cluster 1 ===\n",
      "Organizations: 42\n",
      "Most common Grant Size Classes:\n",
      "GrantSize_Class\n",
      "3    42\n",
      "Name: count, dtype: int64\n",
      "\n",
      "Sample Missions:\n",
      "['IL', 'GA', 'NY']\n",
      "\n",
      "=== Cluster 2 ===\n",
      "Organizations: 30\n",
      "Most common Grant Size Classes:\n",
      "GrantSize_Class\n",
      "2    30\n",
      "Name: count, dtype: int64\n",
      "\n",
      "Sample Missions:\n",
      "[\"Supports UF's mission of research, education, and public engagement; partners with corporations and foundations to create positive change\", \"The 'Grants for Application Proof of Concept (GAP)' program is designed to help research lead to a new product or service\", 'Ensure youth in Ohio receive the development and education they need for success']\n",
      "\n",
      "=== Cluster 3 ===\n",
      "Organizations: 22\n",
      "Most common Grant Size Classes:\n",
      "GrantSize_Class\n",
      "1    22\n",
      "Name: count, dtype: int64\n",
      "\n",
      "Sample Missions:\n",
      "['Platform for creative, project-based funding with tangible rewards', 'Similar to Kickstarter but offers more flexible funding models. Good for tech-forward projects', 'Economic empowerment and career advancement for Black youth (ages 14-24) through school-to-career pipelines']\n",
      "\n",
      "=== Cluster 4 ===\n",
      "Organizations: 22\n",
      "Most common Grant Size Classes:\n",
      "GrantSize_Class\n",
      "4    22\n",
      "Name: count, dtype: int64\n",
      "\n",
      "Sample Missions:\n",
      "['Pillars: Education, Health Care, Homelessness, Youth Development. Strong focus on STEM, literacy, and college readiness', 'Make soccer accessible and inclusive; stress physical fitness, play, and sportsmanship. Explicitly supports STEM programs', \"Use soccer as a 'vehicle to inspire health, learning, and joy'\"]\n"
     ]
    }
   ],
   "source": [
    "for c in sorted(df_clust['Cluster'].unique()):\n",
    "    subset = df_clust[df_clust['Cluster'] == c]\n",
    "    print(f\"\\n=== Cluster {c} ===\")\n",
    "    print(\"Organizations:\", len(subset))\n",
    "    print(\"Most common Grant Size Classes:\")\n",
    "    print(subset['GrantSize_Class'].value_counts())\n",
    "    print(\"\\nSample Missions:\")\n",
    "    print(subset['Mission / Stated Pillars'].head(3).tolist())\n"
   ]
  },
  {
   "cell_type": "code",
   "execution_count": null,
   "metadata": {},
   "outputs": [],
   "source": [
    "#!pip install umap-learn matplotlib\n"
   ]
  },
  {
   "cell_type": "code",
   "execution_count": 18,
   "metadata": {},
   "outputs": [
    {
     "name": "stderr",
     "output_type": "stream",
     "text": [
      "/Users/jovitagandhi/opt/anaconda3/envs/video/lib/python3.10/site-packages/umap/umap_.py:1952: UserWarning: n_jobs value 1 overridden to 1 by setting random_state. Use no seed for parallelism.\n",
      "  warn(\n",
      "OMP: Info #276: omp_set_nested routine deprecated, please use omp_set_max_active_levels instead.\n"
     ]
    },
    {
     "data": {
      "image/png": "[encoded data removed]",
      "text/plain": [
       "<Figure size 800x600 with 2 Axes>"
      ]
     },
     "metadata": {},
     "output_type": "display_data"
    }
   ],
   "source": [
    "from umap import UMAP\n",
    "import matplotlib.pyplot as plt\n",
    "\n",
    "# Step 9a: Reduce to 2D\n",
    "umap = UMAP(n_neighbors=15, min_dist=0.1, random_state=42)\n",
    "embedding_2d = umap.fit_transform(X)\n",
    "\n",
    "# Step 9b: Plot\n",
    "plt.figure(figsize=(8,6))\n",
    "scatter = plt.scatter(\n",
    "    embedding_2d[:,0], embedding_2d[:,1],\n",
    "    c=df_clust['Cluster'], cmap='tab10', s=60, alpha=0.8\n",
    ")\n",
    "plt.title(\"Funding Organizations — UMAP Clustering Projection\", fontsize=13)\n",
    "plt.xlabel(\"UMAP Dimension 1\")\n",
    "plt.ylabel(\"UMAP Dimension 2\")\n",
    "plt.colorbar(scatter, label=\"Cluster ID\")\n",
    "plt.show()\n"
   ]
  },
  {
   "attachments": {},
   "cell_type": "markdown",
   "metadata": {},
   "source": [
    "# What's next?\n",
    "- Should we include more?\n",
    "- Is the one hot encoding etc okay and make sense? \n",
    "- info about IterLight, so we can start mathcing up \n",
    "- Need to find out more about what each cluster is like\n",
    "- What does varies mean? Is there a range? Should we fill out this data? (min donation and max donation)\n",
    "- add labels to the cluster\n",
    "\n"
   ]
  },
  {
   "cell_type": "markdown",
   "metadata": {},
   "source": []
  }
 ],
 "metadata": {
  "kernelspec": {
   "display_name": "Python (video)",
   "language": "python",
   "name": "video"
  },
  "language_info": {
   "codemirror_mode": {
    "name": "ipython",
    "version": 3
   },
   "file_extension": ".py",
   "mimetype": "text/x-python",
   "name": "python",
   "nbconvert_exporter": "python",
   "pygments_lexer": "ipython3",
   "version": "3.10.0"
  },
  "orig_nbformat": 4,
  "vscode": {
   "interpreter": {
    "hash": "758b54b07f4628f2981a93ec2fa893cf8f1006e199b2e47f7b9610a507fb2008"
   }
  }
 },
 "nbformat": 4,
 "nbformat_minor": 2
}
