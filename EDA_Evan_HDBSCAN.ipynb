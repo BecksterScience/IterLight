{
 "cells": [
  {
   "cell_type": "code",
   "execution_count": 16,
   "id": "aa9af961",
   "metadata": {},
   "outputs": [],
   "source": [
    "import pandas as pd\n",
    "\n",
    "data_full = pd.read_excel(\"data/Capstone_Final_Dataset.xlsx\")"
   ]
  },
  {
   "cell_type": "code",
   "execution_count": 17,
   "id": "f1fb2ee5",
   "metadata": {},
   "outputs": [],
   "source": [
    "#First I will keep only Geo info, Category info, Grant info, and Mission/Pillar info\n",
    "data_full = data_full.drop(columns=[\n",
    "    'Category', \n",
    "    'Geographic Scope',\n",
    "    'DEI Priorities', 'Tier',\n",
    "    'Verified Grant URL / Contact', 'Confirmed Application Deadlines',\n",
    "    'Strategic Note / Pitch Angle', 'Partnership Potential',\n",
    "    'Best Pitch Angle', 'Enhanced Notes', 'Contact Person', 'Typical Grant Size',\n",
    "    'Application Process'\n",
    "])\n"
   ]
  },
  {
   "cell_type": "code",
   "execution_count": 18,
   "id": "7da45660",
   "metadata": {},
   "outputs": [],
   "source": [
    "mask = (\n",
    "    (data_full['Financial Funder'] == 1) &\n",
    "    data_full['Typical Min. Grant Size'].notna() &\n",
    "    data_full['Typical Max. Grant Size'].notna()\n",
    ")\n",
    "data_full = data_full.loc[mask].copy()\n",
    "\n",
    "\n",
    "# As a first pass of the data analysis i will only keep the orgs that are financial funders! I.e. labeled 1 in the Financial Funder column"
   ]
  },
  {
   "cell_type": "code",
   "execution_count": 19,
   "id": "804bf06c",
   "metadata": {},
   "outputs": [
    {
     "data": {
      "text/plain": [
       "Index(['Organization', 'Crowdfunding', 'Collegiate', 'Pro Sports League',\n",
       "       'Pro Sports (NFL)', 'Pro Sports (MLB)', 'Pro Sports (USL)',\n",
       "       'Pro Sports (NBA)', 'Pro Sports (MLS)', 'Pro Sports (NHL)',\n",
       "       'Thought Leader', 'National Non-Profit', 'Federal Grant',\n",
       "       'Venture Capital', 'Athlete Foundation', 'Corporate Foundation',\n",
       "       'Education Foundation', 'Geo_Focus', 'Mission / Stated Pillars',\n",
       "       'Financial Funder', 'Typical Min. Grant Size',\n",
       "       'Typical Max. Grant Size', 'Label'],\n",
       "      dtype='object')"
      ]
     },
     "execution_count": 19,
     "metadata": {},
     "output_type": "execute_result"
    }
   ],
   "source": [
    "data_full.columns"
   ]
  },
  {
   "cell_type": "code",
   "execution_count": 20,
   "id": "91f2c28b",
   "metadata": {},
   "outputs": [
    {
     "name": "stdout",
     "output_type": "stream",
     "text": [
      "['$', '&', \"'\", '(', ')', ',', '-', '.', '/', '000', '100', '12', '14', '2025', '24', '50', ':', ';', 'A', 'AI', 'Advances', 'All', 'Almost', 'Animal', 'Application', 'Area', 'Arizona', 'Arts', 'Autism', 'Baltimore', 'Bay', 'Being', 'Berkeley', 'Black', 'Brilliant', 'Care', 'Carolina', 'Central', 'Change', 'Children', 'Civic', 'ClassDojo', 'Communities', 'Community', 'Concept', 'Conservation', 'Degreed', 'Development', 'Distributes', 'DonorsChoose', 'Eagles', 'Eat', 'Economic', 'Educate', 'Education', 'Employment', 'Enhanced', 'Ensure', 'Environmental', 'Equal', 'Families', 'Florida', 'Focuses', 'Fosters', 'Foundation', 'Fund', 'Funds', 'GAP', 'Garden', 'Getting', 'Girls', 'Global', 'Good', 'Grant', 'Grants', 'Harnesses', 'Has', 'Health', 'Helping', 'Hero', 'Hockey', 'Homelessness', 'Honors', 'Houston', 'IES', 'Inclusive', 'Indiana', 'Innovative', 'Inspire', 'Institute', 'Invests', 'Issues', 'Justice', 'K', 'Kickstarter', 'Kiddom', 'Kyron', 'League', 'Learn', 'Learning', 'MLB', 'Madison', 'Michigan', 'NSF', 'Neighborhood', 'New', 'North', 'Oakland', 'Ohio', 'Opportunity', 'Our', 'Outschool', 'Pathway', 'Peaceful', 'PensFIT', 'Pillars', 'Pittsburgh', 'Platform', 'Play', 'Players', 'Portfolio', 'Primarily', 'Proof', 'Pros', 'Provides', 'RITEL', 'Reach', 'Recreation', 'Research', 'STEM', 'Sciences', 'Similar', 'SkyDeck', 'Social', 'Society', 'Solve', 'South', 'Specific', 'Square', 'Strong', 'Supports', 'Technologies', 'Technology', 'Tennessee', 'Texas', 'The', 'They', 'UF', 'Underserved', 'Use', 'Veterans', 'We', 'Well', 'Wellness', 'Western', 'Women', 'YC', 'York', 'Youth', 'a', 'academic', 'accelerator', 'accepting', 'access', 'achievement', 'across', 'active', 'activity', 'adults', 'advance', 'advancement', 'advancing', 'ages', 'an', 'and', 'anti', 'anyone', 'applications', 'approaches', 'are', 'area', 'areas', 'around', 'as', 'at', 'athletic', 'athletics', 'augmented', 'autism', 'based', 'become', 'being', 'believe', 'benefiting', 'best', 'betterment', 'boost', 'breaking', 'build', 'bullying', 'but', 'by', 'care', 'career', 'centric', 'challenges', 'change', 'charitable', 'charity', 'children', 'choice', 'choices', 'classroom', 'closing', 'college', 'communities', 'community', 'companies', 'company', 'component', 'connecting', 'corporations', 'create', 'creative', 'criminal', 'cultural', 'currently', 'cycles', 'data', 'dedicated', 'defense', 'design', 'designed', 'development', 'diversity', 'drive', 'driven', 'each', 'early', 'easy', 'economic', 'economies', 'education', 'educational', 'elevate', 'emphasis', 'employment', 'empower', 'empowering', 'empowerment', 'engagement', 'engaging', 'enrich', 'entrepreneurial', 'entrepreneurship', 'equitable', 'equity', 'evaluation', 'every', 'evidence', 'exclusively', 'existing', 'explicitly', 'facing', 'families', 'family', 'field', 'fitness', 'flexible', 'flourishes', 'focus', 'focused', 'focuses', 'focusing', 'football', 'for', 'forward', 'foundation', 'foundations', 'founders', 'freedom', 'full', 'funding', 'game', 'gap', 'grant', 'grants', 'great', 'ground', 'growing', 'health', 'healthcare', 'help', 'helps', 'high', 'how', 'human', 'ignite', 'impact', 'improve', 'improvements', 'in', 'include', 'includes', 'including', 'inclusion', 'initiated', 'initiative', 'initiatives', 'innovation', 'innovations', 'innovative', 'inspire', 'investing', 'invests', 'is', 'it', 'joy', 'justice', 'key', 'kids', 'launch', 'lead', 'leader', 'leaders', 'leadership', 'learn', 'learner', 'learning', 'life', 'literacy', 'lives', 'major', 'make', 'makes', 'marketplace', 'math', 'mentoring', 'mentorship', 'military', 'minorities', 'mission', 'models', 'more', 'national', 'need', 'needs', 'new', 'next', 'non', 'nonprofit', 'nutrition', 'obstacles', 'of', 'offers', 'on', 'open', 'opportunities', 'or', 'organizations', 'other', 'own', 'partner', 'partners', 'partnerships', 'passions', 'pedagogy', 'people', 'performance', 'physical', 'pillar', 'pipelines', 'platforms', 'players', 'policy', 'portfolio', 'positive', 'potential', 'poverty', 'power', 'powered', 'practice', 'premier', 'product', 'profit', 'profits', 'program', 'programming', 'programs', 'progress', 'project', 'projects', 'promote', 'prosperity', 'provide', 'provides', 'public', 'purpose', 'racial', 'range', 'rather', 'reach', 'readiness', 'realize', 'receive', 'recreation', 'reform', 'region', 'requires', 'research', 'revitalization', 'rewards', 'rigorous', 'risk', 'run', 's', 'scale', 'school', 'schools', 'science', 'scientific', 'secure', 'serve', 'service', 'skills', 'smaller', 'soccer', 'social', 'solve', 'sport', 'sports', 'starting', 'strong', 'student', 'students', 'success', 'support', 'supporting', 'supports', 'tangible', 'targets', 'tech', 'technology', 'than', 'that', 'the', 'their', 'them', 'they', 'through', 'to', 'transform', 'transforming', 'trusted', 'uplift', 'upskilling', 'various', 'vehicle', 'veterans', 'via', 'vulnerable', 'welfare', 'well', 'wellness', 'when', 'which', 'who', 'wide', 'with', 'women', 'work', 'workforce', 'working', 'world', 'worldwide', 'years', 'young', 'youth', '—', '’', '…']\n",
      "\n",
      "Total unique tokens: 481\n"
     ]
    }
   ],
   "source": [
    "import re\n",
    "\n",
    "# Combine all text in the column into one string\n",
    "text = \" \".join(data_full[\"Mission / Stated Pillars\"].astype(str))\n",
    "\n",
    "# Split by spaces and punctuation\n",
    "tokens = re.findall(r\"\\b\\w+\\b|[^\\w\\s]\", text)\n",
    "\n",
    "# Get unique tokens\n",
    "unique_tokens = sorted(set(tokens))\n",
    "\n",
    "# Display\n",
    "print(unique_tokens)\n",
    "print(f\"\\nTotal unique tokens: {len(unique_tokens)}\")"
   ]
  },
  {
   "cell_type": "code",
   "execution_count": 21,
   "id": "2d84e9c2",
   "metadata": {},
   "outputs": [],
   "source": [
    "# --- 0) Light text clean (keep punctuation/stopwords) ---\n",
    "def clean_mission(s):\n",
    "    if pd.isna(s):\n",
    "        return \"\"\n",
    "    s = str(s)\n",
    "    s = s.replace(\"\\n\", \" \").replace(\"\\r\", \" \")\n",
    "    s = re.sub(r\"\\s*[\\u2022•·\\-–—]\\s*\", \"; \", s)  # bullets -> semicolons\n",
    "    s = re.sub(r\"\\s+\", \" \", s).strip()\n",
    "    return s\n",
    "\n",
    "data_full['mission_clean'] = data_full['Mission / Stated Pillars'].apply(clean_mission)\n"
   ]
  },
  {
   "cell_type": "code",
   "execution_count": 22,
   "id": "57f269e6",
   "metadata": {},
   "outputs": [],
   "source": [
    "import re\n",
    "import numpy as np\n",
    "from collections import Counter\n",
    "from sklearn.feature_extraction.text import TfidfVectorizer, ENGLISH_STOP_WORDS\n",
    "\n",
    "def print_cluster_terms_safe(\n",
    "    texts,\n",
    "    labels,\n",
    "    topn=12,\n",
    "    method=\"relative\",      # \"relative\" or \"mean\"\n",
    "    ngram_range=(1,2),\n",
    "    min_df=2,\n",
    "    max_df=0.9,\n",
    "    extra_stops=None,\n",
    "    include_noise=False,\n",
    "    min_cluster_size_to_print=1,\n",
    "    verbose=True\n",
    "):\n",
    "    labels = np.asarray(labels)\n",
    "    uniq, cnts = np.unique(labels, return_counts=True)\n",
    "    if verbose:\n",
    "        print(\"Label distribution:\", dict(zip(uniq.tolist(), cnts.tolist())))\n",
    "\n",
    "    if extra_stops is None:\n",
    "        extra_stops = {\n",
    "            \"foundation\",\"nonprofit\",\"program\",\"programs\",\n",
    "            \"students\",\"youth\",\"community\",\"support\",\n",
    "            \"organization\",\"organizations\"\n",
    "        }\n",
    "    stopwords = list(ENGLISH_STOP_WORDS.union(extra_stops))\n",
    "\n",
    "    docs = [\"\" if t is None else str(t) for t in texts]\n",
    "\n",
    "    def try_vectorizer(_min_df, _max_df, _ngram_range, _stopwords):\n",
    "        tfidf = TfidfVectorizer(\n",
    "            stop_words=_stopwords,\n",
    "            ngram_range=_ngram_range,\n",
    "            min_df=_min_df,\n",
    "            max_df=_max_df,\n",
    "            sublinear_tf=True\n",
    "        )\n",
    "        X = tfidf.fit_transform(docs)\n",
    "        terms = np.array(tfidf.get_feature_names_out())\n",
    "        return X, terms\n",
    "\n",
    "    Xtf = terms = None\n",
    "    # Progressive relaxation if vocab is empty\n",
    "    relax_plan = [\n",
    "        (min_df,   max_df,   ngram_range, stopwords),\n",
    "        (1,        max_df,   ngram_range, stopwords),\n",
    "        (1,        1.0,      (1,1),       stopwords),\n",
    "        (1,        1.0,      (1,1),       None),        # no stopwords at all\n",
    "    ]\n",
    "\n",
    "    for (md, mx, ngr, sw) in relax_plan:\n",
    "        try:\n",
    "            Xtf, terms = try_vectorizer(md, mx, ngr, sw)\n",
    "            if verbose:\n",
    "                print(f\"Vectorizer OK with min_df={md}, max_df={mx}, ngram_range={ngr}, \"\n",
    "                      f\"stopwords={'custom' if sw is not None else 'None'}; vocab={len(terms)}\")\n",
    "            break\n",
    "        except ValueError as e:\n",
    "            if \"empty vocabulary\" in str(e).lower():\n",
    "                if verbose:\n",
    "                    print(f\"Retrying vectorizer due to empty vocabulary... tried \"\n",
    "                          f\"min_df={md}, max_df={mx}, ngram_range={ngr}, \"\n",
    "                          f\"stopwords={'custom' if sw is not None else 'None'}\")\n",
    "                continue\n",
    "            else:\n",
    "                raise\n",
    "\n",
    "    if Xtf is None or Xtf.shape[1] == 0:\n",
    "        # Final ultra-safe fallback: simple token counts without sklearn\n",
    "        if verbose:\n",
    "            print(\"Falling back to simple token counts (regex).\")\n",
    "        token_pat = re.compile(r\"[A-Za-z]{3,}\")\n",
    "        tokenized = [token_pat.findall(d.lower()) for d in docs]\n",
    "        labels_list = labels.tolist()\n",
    "        for cid in sorted(set(labels_list)):\n",
    "            if cid == -1 and not include_noise:\n",
    "                continue\n",
    "            idx = [i for i, l in enumerate(labels_list) if l == cid]\n",
    "            if len(idx) < min_cluster_size_to_print:\n",
    "                continue\n",
    "            bag = Counter()\n",
    "            for i in idx:\n",
    "                bag.update(tokenized[i])\n",
    "            common = [w for w, _ in bag.most_common(topn)]\n",
    "            print(f\"\\nCluster {cid} (n={len(idx)}): \" + \", \".join(common))\n",
    "        return\n",
    "\n",
    "    # Use non-noise docs for corpus_mean; if all noise, use all\n",
    "    valid_mask = (labels != -1) if (labels != -1).any() else np.ones_like(labels, dtype=bool)\n",
    "    corpus_mean = np.asarray(Xtf[valid_mask].mean(axis=0)).ravel() + 1e-9\n",
    "\n",
    "    printed_any = False\n",
    "    for cid in sorted(set(labels)):\n",
    "        if cid == -1 and not include_noise:\n",
    "            continue\n",
    "        idx = np.where(labels == cid)[0]\n",
    "        if len(idx) < min_cluster_size_to_print:\n",
    "            continue\n",
    "        Xc = Xtf[idx]\n",
    "        mean_tfidf = np.asarray(Xc.mean(axis=0)).ravel()\n",
    "        score = (mean_tfidf / corpus_mean) if method == \"relative\" else mean_tfidf\n",
    "        if score.size == 0:\n",
    "            continue\n",
    "        top = score.argsort()[::-1][:topn]\n",
    "        print(f\"\\nCluster {cid} (n={len(idx)}): \" + \", \".join(terms[top]))\n",
    "        printed_any = True\n",
    "\n",
    "    if not printed_any and verbose:\n",
    "        print(\"No clusters printed (likely all noise or clusters < min_cluster_size_to_print). \"\n",
    "              \"Consider lowering HDBSCAN min_cluster_size/min_samples or set include_noise=True.\")\n"
   ]
  },
  {
   "cell_type": "code",
   "execution_count": 23,
   "id": "29750ce6",
   "metadata": {},
   "outputs": [
    {
     "name": "stderr",
     "output_type": "stream",
     "text": [
      "'(ReadTimeoutError(\"HTTPSConnectionPool(host='huggingface.co', port=443): Read timed out. (read timeout=10)\"), '(Request ID: e334e0df-89bf-4c81-a323-83524abe8401)')' thrown while requesting HEAD https://huggingface.co/sentence-transformers/all-mpnet-base-v2/resolve/main/./modules.json\n",
      "Retrying in 1s [Retry 1/5].\n"
     ]
    },
    {
     "name": "stdout",
     "output_type": "stream",
     "text": [
      "(array([-1]), array([70]))\n"
     ]
    },
    {
     "name": "stderr",
     "output_type": "stream",
     "text": [
      "/opt/anaconda3/envs/Iterlight/lib/python3.10/site-packages/sklearn/utils/deprecation.py:132: FutureWarning: 'force_all_finite' was renamed to 'ensure_all_finite' in 1.6 and will be removed in 1.8.\n",
      "  warnings.warn(\n",
      "/opt/anaconda3/envs/Iterlight/lib/python3.10/site-packages/sklearn/utils/deprecation.py:132: FutureWarning: 'force_all_finite' was renamed to 'ensure_all_finite' in 1.6 and will be removed in 1.8.\n",
      "  warnings.warn(\n"
     ]
    }
   ],
   "source": [
    "from sentence_transformers import SentenceTransformer\n",
    "import hdbscan\n",
    "import numpy as np\n",
    "\n",
    "# 1) Embeddings (normalize for cosine-like geometry)\n",
    "model = SentenceTransformer(\"all-mpnet-base-v2\")\n",
    "embeddings = model.encode(data_full['mission_clean'].tolist(), normalize_embeddings=True)\n",
    "\n",
    "# 2) HDBSCAN directly on embeddings (no UMAP)\n",
    "clusterer = hdbscan.HDBSCAN(\n",
    "    metric='euclidean',            # with L2-normalized vectors, Euclidean ≈ cosine\n",
    "    min_cluster_size=4,\n",
    "    cluster_selection_method='eom'\n",
    ")\n",
    "labels = clusterer.fit_predict(embeddings)\n",
    "data_full[\"cluster_mission\"] = labels\n",
    "\n",
    "print(np.unique(labels, return_counts=True))\n"
   ]
  },
  {
   "cell_type": "code",
   "execution_count": 24,
   "id": "04489658",
   "metadata": {},
   "outputs": [
    {
     "name": "stdout",
     "output_type": "stream",
     "text": [
      "Label distribution: {-1: 70}\n",
      "Vectorizer OK with min_df=2, max_df=0.9, ngram_range=(1, 2), stopwords=custom; vocab=138\n",
      "No clusters printed (likely all noise or clusters < min_cluster_size_to_print). Consider lowering HDBSCAN min_cluster_size/min_samples or set include_noise=True.\n"
     ]
    }
   ],
   "source": [
    "print_cluster_terms_safe(\n",
    "    texts=data_full[\"mission_clean\"],\n",
    "    labels=labels,\n",
    "    topn=12,\n",
    "    method=\"relative\",          # or \"mean\"\n",
    "    include_noise=False,        # set True if you want cluster -1 terms too\n",
    "    min_cluster_size_to_print=2 # skip singletons\n",
    ")\n"
   ]
  },
  {
   "cell_type": "code",
   "execution_count": 25,
   "id": "06e2b69e",
   "metadata": {},
   "outputs": [
    {
     "name": "stderr",
     "output_type": "stream",
     "text": [
      "'(ReadTimeoutError(\"HTTPSConnectionPool(host='huggingface.co', port=443): Read timed out. (read timeout=10)\"), '(Request ID: a06766c7-1543-49f3-9d99-c0ada8476990)')' thrown while requesting HEAD https://huggingface.co/sentence-transformers/all-mpnet-base-v2/resolve/main/config.json\n",
      "Retrying in 1s [Retry 1/5].\n"
     ]
    },
    {
     "name": "stdout",
     "output_type": "stream",
     "text": [
      "(array([-1,  0,  1,  2]), array([13, 13, 29, 15]))\n"
     ]
    },
    {
     "name": "stderr",
     "output_type": "stream",
     "text": [
      "/opt/anaconda3/envs/Iterlight/lib/python3.10/site-packages/umap/umap_.py:1952: UserWarning: n_jobs value 1 overridden to 1 by setting random_state. Use no seed for parallelism.\n",
      "  warn(\n",
      "/opt/anaconda3/envs/Iterlight/lib/python3.10/site-packages/sklearn/utils/deprecation.py:132: FutureWarning: 'force_all_finite' was renamed to 'ensure_all_finite' in 1.6 and will be removed in 1.8.\n",
      "  warnings.warn(\n",
      "/opt/anaconda3/envs/Iterlight/lib/python3.10/site-packages/sklearn/utils/deprecation.py:132: FutureWarning: 'force_all_finite' was renamed to 'ensure_all_finite' in 1.6 and will be removed in 1.8.\n",
      "  warnings.warn(\n"
     ]
    }
   ],
   "source": [
    "from sentence_transformers import SentenceTransformer\n",
    "import umap.umap_ as umap\n",
    "import hdbscan\n",
    "from sklearn.feature_extraction.text import TfidfVectorizer\n",
    "import pandas as pd\n",
    "import numpy as np\n",
    "\n",
    "# 1️⃣ Embeddings (use mpnet for best semantics)\n",
    "model = SentenceTransformer(\"all-mpnet-base-v2\")\n",
    "embeddings = model.encode(data_full['mission_clean'].tolist(), normalize_embeddings=True)\n",
    "\n",
    "# 2️⃣ UMAP dimensionality reduction (preserves meaning structure)\n",
    "um = umap.UMAP(\n",
    "    n_neighbors=10,\n",
    "    n_components=15,          # can try 10–20\n",
    "    min_dist=0.1,\n",
    "    metric=\"cosine\",\n",
    "    random_state=42\n",
    ")\n",
    "X_umap = um.fit_transform(embeddings)\n",
    "\n",
    "# 3️⃣ HDBSCAN clustering\n",
    "clusterer = hdbscan.HDBSCAN(\n",
    "    metric='euclidean',       # since UMAP outputs Euclidean\n",
    "    min_cluster_size=5,\n",
    "    cluster_selection_method='eom'\n",
    ")\n",
    "labels = clusterer.fit_predict(X_umap)\n",
    "data_full[\"cluster_mission\"] = labels\n",
    "\n",
    "print(np.unique(labels, return_counts=True))\n"
   ]
  },
  {
   "cell_type": "code",
   "execution_count": 26,
   "id": "050a52c6",
   "metadata": {},
   "outputs": [
    {
     "name": "stdout",
     "output_type": "stream",
     "text": [
      "Label distribution: {-1: 13, 0: 13, 1: 29, 2: 15}\n",
      "Vectorizer OK with min_df=2, max_df=0.9, ngram_range=(1, 2), stopwords=custom; vocab=138\n",
      "\n",
      "Cluster 0 (n=13): profit, non profit, serve children, arizona, family, game, profits help, areas, focus areas, key pillar, education key, non\n",
      "\n",
      "Cluster 1 (n=29): development education, fitness, veterans, supporting education, education development, health education, recreation, inspire, physical, leadership development, school, hockey\n",
      "\n",
      "Cluster 2 (n=15): funding, world, mission, based, founders, entrepreneurial, companies, funds, ai, invests, human, includes\n"
     ]
    }
   ],
   "source": [
    "print_cluster_terms_safe(\n",
    "    texts=data_full[\"mission_clean\"],\n",
    "    labels=labels,\n",
    "    topn=12,\n",
    "    method=\"relative\",          # or \"mean\"\n",
    "    include_noise=False,        # set True if you want cluster -1 terms too\n",
    "    min_cluster_size_to_print=2 # skip singletons\n",
    ")"
   ]
  },
  {
   "cell_type": "code",
   "execution_count": 27,
   "id": "25791ca5",
   "metadata": {},
   "outputs": [
    {
     "name": "stderr",
     "output_type": "stream",
     "text": [
      "huggingface/tokenizers: The current process just got forked, after parallelism has already been used. Disabling parallelism to avoid deadlocks...\n",
      "To disable this warning, you can either:\n",
      "\t- Avoid using `tokenizers` before the fork if possible\n",
      "\t- Explicitly set the environment variable TOKENIZERS_PARALLELISM=(true | false)\n"
     ]
    },
    {
     "name": "stdout",
     "output_type": "stream",
     "text": [
      "Requirement already satisfied: seaborn in /opt/anaconda3/envs/Iterlight/lib/python3.10/site-packages (0.13.2)\n",
      "Requirement already satisfied: numpy!=1.24.0,>=1.20 in /opt/anaconda3/envs/Iterlight/lib/python3.10/site-packages (from seaborn) (2.2.6)\n",
      "Requirement already satisfied: pandas>=1.2 in /opt/anaconda3/envs/Iterlight/lib/python3.10/site-packages (from seaborn) (2.3.3)\n",
      "Requirement already satisfied: matplotlib!=3.6.1,>=3.4 in /opt/anaconda3/envs/Iterlight/lib/python3.10/site-packages (from seaborn) (3.10.7)\n",
      "Requirement already satisfied: contourpy>=1.0.1 in /opt/anaconda3/envs/Iterlight/lib/python3.10/site-packages (from matplotlib!=3.6.1,>=3.4->seaborn) (1.3.2)\n",
      "Requirement already satisfied: cycler>=0.10 in /opt/anaconda3/envs/Iterlight/lib/python3.10/site-packages (from matplotlib!=3.6.1,>=3.4->seaborn) (0.12.1)\n",
      "Requirement already satisfied: fonttools>=4.22.0 in /opt/anaconda3/envs/Iterlight/lib/python3.10/site-packages (from matplotlib!=3.6.1,>=3.4->seaborn) (4.60.1)\n",
      "Requirement already satisfied: kiwisolver>=1.3.1 in /opt/anaconda3/envs/Iterlight/lib/python3.10/site-packages (from matplotlib!=3.6.1,>=3.4->seaborn) (1.4.9)\n",
      "Requirement already satisfied: packaging>=20.0 in /opt/anaconda3/envs/Iterlight/lib/python3.10/site-packages (from matplotlib!=3.6.1,>=3.4->seaborn) (25.0)\n",
      "Requirement already satisfied: pillow>=8 in /opt/anaconda3/envs/Iterlight/lib/python3.10/site-packages (from matplotlib!=3.6.1,>=3.4->seaborn) (12.0.0)\n",
      "Requirement already satisfied: pyparsing>=3 in /opt/anaconda3/envs/Iterlight/lib/python3.10/site-packages (from matplotlib!=3.6.1,>=3.4->seaborn) (3.2.5)\n",
      "Requirement already satisfied: python-dateutil>=2.7 in /opt/anaconda3/envs/Iterlight/lib/python3.10/site-packages (from matplotlib!=3.6.1,>=3.4->seaborn) (2.9.0.post0)\n",
      "Requirement already satisfied: pytz>=2020.1 in /opt/anaconda3/envs/Iterlight/lib/python3.10/site-packages (from pandas>=1.2->seaborn) (2025.2)\n",
      "Requirement already satisfied: tzdata>=2022.7 in /opt/anaconda3/envs/Iterlight/lib/python3.10/site-packages (from pandas>=1.2->seaborn) (2025.2)\n",
      "Requirement already satisfied: six>=1.5 in /opt/anaconda3/envs/Iterlight/lib/python3.10/site-packages (from python-dateutil>=2.7->matplotlib!=3.6.1,>=3.4->seaborn) (1.17.0)\n"
     ]
    }
   ],
   "source": [
    "!pip install seaborn"
   ]
  },
  {
   "cell_type": "code",
   "execution_count": 28,
   "id": "9288730e",
   "metadata": {},
   "outputs": [
    {
     "name": "stderr",
     "output_type": "stream",
     "text": [
      "/opt/anaconda3/envs/Iterlight/lib/python3.10/site-packages/umap/umap_.py:1952: UserWarning: n_jobs value 1 overridden to 1 by setting random_state. Use no seed for parallelism.\n",
      "  warn(\n"
     ]
    }
   ],
   "source": [
    "import umap.umap_ as umap\n",
    "\n",
    "umap_2d = umap.UMAP(\n",
    "    n_neighbors=10,\n",
    "    n_components=2,      # 2D for visualization\n",
    "    min_dist=0.1,\n",
    "    metric=\"cosine\",\n",
    "    random_state=42\n",
    ")\n",
    "X_2d = umap_2d.fit_transform(embeddings)   # or X_umap if you prefer 15→2\n"
   ]
  },
  {
   "cell_type": "code",
   "execution_count": 29,
   "id": "0bbfc978",
   "metadata": {},
   "outputs": [
    {
     "data": {
      "image/png": "[encoded data removed]",
      "text/plain": [
       "<Figure size 800x600 with 1 Axes>"
      ]
     },
     "metadata": {},
     "output_type": "display_data"
    }
   ],
   "source": [
    "import matplotlib.pyplot as plt\n",
    "import seaborn as sns\n",
    "import numpy as np\n",
    "\n",
    "# Prepare colors\n",
    "unique_labels = np.unique(labels)\n",
    "palette = sns.color_palette(\"tab10\", len(unique_labels))\n",
    "\n",
    "plt.figure(figsize=(8,6))\n",
    "for lab, col in zip(unique_labels, palette):\n",
    "    mask = labels == lab\n",
    "    if lab == -1:\n",
    "        plt.scatter(X_2d[mask,0], X_2d[mask,1],\n",
    "                    c=[(0.6,0.6,0.6)], s=35, alpha=0.6, label=\"Noise (-1)\")\n",
    "    else:\n",
    "        plt.scatter(X_2d[mask,0], X_2d[mask,1],\n",
    "                    c=[col], s=60, alpha=0.8, label=f\"Cluster {lab}\")\n",
    "\n",
    "plt.title(\"HDBSCAN Mission-Statement Clusters (2D UMAP view)\")\n",
    "plt.legend()\n",
    "plt.axis(\"off\")\n",
    "plt.show()\n"
   ]
  },
  {
   "cell_type": "code",
   "execution_count": 30,
   "id": "b2d21da2",
   "metadata": {},
   "outputs": [
    {
     "data": {
      "image/png": "[encoded data removed]",
      "text/plain": [
       "<Figure size 900x700 with 1 Axes>"
      ]
     },
     "metadata": {},
     "output_type": "display_data"
    }
   ],
   "source": [
    "import numpy as np\n",
    "import matplotlib.pyplot as plt\n",
    "\n",
    "# assumes you already have: X_2d (shape [n,2]), labels (HDBSCAN ints), data_full[\"label\"]\n",
    "star_mask = (data_full[\"Label\"].fillna(0).astype(int) == 1).to_numpy()\n",
    "unique_clusters = np.unique(labels)\n",
    "\n",
    "plt.figure(figsize=(9,7))\n",
    "\n",
    "# 1) plot dots (label != 1) per cluster\n",
    "for cid in unique_clusters:\n",
    "    mask = (labels == cid) & (~star_mask)\n",
    "    if cid == -1:\n",
    "        plt.scatter(X_2d[mask, 0], X_2d[mask, 1], s=35, alpha=0.5, c='lightgray', label=\"Noise (-1)\")\n",
    "    else:\n",
    "        plt.scatter(X_2d[mask, 0], X_2d[mask, 1], s=55, alpha=0.8, label=f\"Cluster {cid}\")\n",
    "\n",
    "# 2) overlay stars (label == 1) per cluster (plot second so they sit on top)\n",
    "for cid in unique_clusters:\n",
    "    mask = (labels == cid) & (star_mask)\n",
    "    if not np.any(mask):\n",
    "        continue\n",
    "    plt.scatter(X_2d[mask, 0], X_2d[mask, 1],\n",
    "                s=140, marker='*', linewidths=0.8, edgecolors='k', alpha=0.95,\n",
    "                label=None)  # we’ll add a custom legend entry below\n",
    "\n",
    "# 3) add a legend entry for the star marker (proxy artist)\n",
    "from matplotlib.lines import Line2D\n",
    "star_legend = Line2D([0], [0], marker='*', color='w', label='label == 1',\n",
    "                     markeredgecolor='k', markerfacecolor='none', markersize=12, linewidth=0)\n",
    "dot_legend  = Line2D([0], [0], marker='o', color='w', label='label != 1',\n",
    "                     markeredgecolor='k', markerfacecolor='k', markersize=7, linewidth=0)\n",
    "\n",
    "# combine cluster legend + marker legend\n",
    "first_legend = plt.legend(loc='best', title=\"Clusters\", frameon=True)\n",
    "plt.gca().add_artist(first_legend)\n",
    "plt.legend(handles=[star_legend, dot_legend], loc='lower left', title=\"Label marker\", frameon=True)\n",
    "\n",
    "plt.title(\"Mission-Statement Clusters (2D UMAP) — stars mark label==1\")\n",
    "plt.axis('off')\n",
    "plt.tight_layout()\n",
    "plt.show()\n"
   ]
  },
  {
   "cell_type": "code",
   "execution_count": 31,
   "id": "e4a1112b",
   "metadata": {},
   "outputs": [
    {
     "data": {
      "text/html": [
       "<div>\n",
       "<style scoped>\n",
       "    .dataframe tbody tr th:only-of-type {\n",
       "        vertical-align: middle;\n",
       "    }\n",
       "\n",
       "    .dataframe tbody tr th {\n",
       "        vertical-align: top;\n",
       "    }\n",
       "\n",
       "    .dataframe thead th {\n",
       "        text-align: right;\n",
       "    }\n",
       "</style>\n",
       "<table border=\"1\" class=\"dataframe\">\n",
       "  <thead>\n",
       "    <tr style=\"text-align: right;\">\n",
       "      <th></th>\n",
       "      <th>Organization</th>\n",
       "      <th>cluster_mission</th>\n",
       "    </tr>\n",
       "  </thead>\n",
       "  <tbody>\n",
       "    <tr>\n",
       "      <th>0</th>\n",
       "      <td>IterLight</td>\n",
       "      <td>-1</td>\n",
       "    </tr>\n",
       "  </tbody>\n",
       "</table>\n",
       "</div>"
      ],
      "text/plain": [
       "  Organization  cluster_mission\n",
       "0    IterLight               -1"
      ]
     },
     "execution_count": 31,
     "metadata": {},
     "output_type": "execute_result"
    }
   ],
   "source": [
    "data_full.loc[data_full['Organization'].str.contains('IterLight', case=False, na=False),\n",
    "              ['Organization','cluster_mission']]"
   ]
  },
  {
   "cell_type": "code",
   "execution_count": null,
   "id": "839bfd81",
   "metadata": {},
   "outputs": [],
   "source": []
  }
 ],
 "metadata": {
  "kernelspec": {
   "display_name": "Iterlight",
   "language": "python",
   "name": "python3"
  },
  "language_info": {
   "codemirror_mode": {
    "name": "ipython",
    "version": 3
   },
   "file_extension": ".py",
   "mimetype": "text/x-python",
   "name": "python",
   "nbconvert_exporter": "python",
   "pygments_lexer": "ipython3",
   "version": "3.10.19"
  }
 },
 "nbformat": 4,
 "nbformat_minor": 5
}
